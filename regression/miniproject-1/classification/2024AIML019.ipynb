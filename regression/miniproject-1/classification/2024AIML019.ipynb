{
 "cells": [
  {
   "cell_type": "markdown",
   "metadata": {},
   "source": [
    "### Assignment 1 - Classification - Credit Card Fraud Detection using K-Nearest Neighbors (KNN) Algorithm\n",
    "#### Student: Rahul (2024AIML019)\n",
    "#### Date: 2025-02-08\n"
   ]
  },
  {
   "cell_type": "code",
   "execution_count": 20,
   "metadata": {
    "ExecuteTime": {
     "end_time": "2025-02-07T03:15:04.139981Z",
     "start_time": "2025-02-07T03:15:03.876215Z"
    }
   },
   "outputs": [],
   "source": [
    "# Global imports\n",
    "import os\n",
    "import pandas as pd\n",
    "from sklearn.model_selection import train_test_split, GridSearchCV\n",
    "from sklearn.neighbors import KNeighborsClassifier\n",
    "from sklearn.preprocessing import StandardScaler\n",
    "import matplotlib.pyplot as plt\n",
    "from sklearn.metrics import classification_report, confusion_matrix, accuracy_score, roc_curve, roc_auc_score\n",
    "import seaborn as sns\n",
    "\n",
    "# Global settings\n",
    "plt.style.use('ggplot')\n",
    "os.environ['LOKY_MAX_CPU_COUNT'] = '12'\n",
    "n_jobs = 12"
   ]
  },
  {
   "cell_type": "markdown",
   "metadata": {},
   "source": [
    "#### 1. Perform data loading, preprocessing by dropping any rows with 'NaN' values in the 'Class' column."
   ]
  },
  {
   "cell_type": "code",
   "execution_count": 21,
   "metadata": {
    "ExecuteTime": {
     "end_time": "2025-02-07T03:15:05.550087Z",
     "start_time": "2025-02-07T03:15:04.168724Z"
    }
   },
   "outputs": [
    {
     "name": "stdout",
     "output_type": "stream",
     "text": [
      "No missing values in Class column\n"
     ]
    },
    {
     "data": {
      "application/vnd.microsoft.datawrangler.viewer.v0+json": {
       "columns": [
        {
         "name": "index",
         "rawType": "int64",
         "type": "integer"
        },
        {
         "name": "Time",
         "rawType": "float64",
         "type": "float"
        },
        {
         "name": "V1",
         "rawType": "float64",
         "type": "float"
        },
        {
         "name": "V2",
         "rawType": "float64",
         "type": "float"
        },
        {
         "name": "V3",
         "rawType": "float64",
         "type": "float"
        },
        {
         "name": "V4",
         "rawType": "float64",
         "type": "float"
        },
        {
         "name": "V5",
         "rawType": "float64",
         "type": "float"
        },
        {
         "name": "V6",
         "rawType": "float64",
         "type": "float"
        },
        {
         "name": "V7",
         "rawType": "float64",
         "type": "float"
        },
        {
         "name": "V8",
         "rawType": "float64",
         "type": "float"
        },
        {
         "name": "V9",
         "rawType": "float64",
         "type": "float"
        },
        {
         "name": "V10",
         "rawType": "float64",
         "type": "float"
        },
        {
         "name": "V11",
         "rawType": "float64",
         "type": "float"
        },
        {
         "name": "V12",
         "rawType": "float64",
         "type": "float"
        },
        {
         "name": "V13",
         "rawType": "float64",
         "type": "float"
        },
        {
         "name": "V14",
         "rawType": "float64",
         "type": "float"
        },
        {
         "name": "V15",
         "rawType": "float64",
         "type": "float"
        },
        {
         "name": "V16",
         "rawType": "float64",
         "type": "float"
        },
        {
         "name": "V17",
         "rawType": "float64",
         "type": "float"
        },
        {
         "name": "V18",
         "rawType": "float64",
         "type": "float"
        },
        {
         "name": "V19",
         "rawType": "float64",
         "type": "float"
        },
        {
         "name": "V20",
         "rawType": "float64",
         "type": "float"
        },
        {
         "name": "V21",
         "rawType": "float64",
         "type": "float"
        },
        {
         "name": "V22",
         "rawType": "float64",
         "type": "float"
        },
        {
         "name": "V23",
         "rawType": "float64",
         "type": "float"
        },
        {
         "name": "V24",
         "rawType": "float64",
         "type": "float"
        },
        {
         "name": "V25",
         "rawType": "float64",
         "type": "float"
        },
        {
         "name": "V26",
         "rawType": "float64",
         "type": "float"
        },
        {
         "name": "V27",
         "rawType": "float64",
         "type": "float"
        },
        {
         "name": "V28",
         "rawType": "float64",
         "type": "float"
        },
        {
         "name": "Amount",
         "rawType": "float64",
         "type": "float"
        },
        {
         "name": "Class",
         "rawType": "int64",
         "type": "integer"
        }
       ],
       "conversionMethod": "pd.DataFrame",
       "ref": "13bb38f8-d159-45f4-94a6-150be7205820",
       "rows": [
        [
         "0",
         "0.0",
         "-1.3598071336738",
         "-0.0727811733098497",
         "2.53634673796914",
         "1.37815522427443",
         "-0.338320769942518",
         "0.462387777762292",
         "0.239598554061257",
         "0.0986979012610507",
         "0.363786969611213",
         "0.0907941719789316",
         "-0.551599533260813",
         "-0.617800855762348",
         "-0.991389847235408",
         "-0.311169353699879",
         "1.46817697209427",
         "-0.470400525259478",
         "0.207971241929242",
         "0.0257905801985591",
         "0.403992960255733",
         "0.251412098239705",
         "-0.018306777944153",
         "0.277837575558899",
         "-0.110473910188767",
         "0.0669280749146731",
         "0.128539358273528",
         "-0.189114843888824",
         "0.133558376740387",
         "-0.0210530534538215",
         "149.62",
         "0"
        ],
        [
         "1",
         "0.0",
         "1.19185711131486",
         "0.26615071205963",
         "0.16648011335321",
         "0.448154078460911",
         "0.0600176492822243",
         "-0.0823608088155687",
         "-0.0788029833323113",
         "0.0851016549148104",
         "-0.255425128109186",
         "-0.166974414004614",
         "1.61272666105479",
         "1.06523531137287",
         "0.48909501589608",
         "-0.143772296441519",
         "0.635558093258208",
         "0.463917041022171",
         "-0.114804663102346",
         "-0.183361270123994",
         "-0.145783041325259",
         "-0.0690831352230203",
         "-0.225775248033138",
         "-0.638671952771851",
         "0.101288021253234",
         "-0.339846475529127",
         "0.167170404418143",
         "0.125894532368176",
         "-0.0089830991432281",
         "0.0147241691924927",
         "2.69",
         "0"
        ],
        [
         "2",
         "1.0",
         "-1.35835406159823",
         "-1.34016307473609",
         "1.77320934263119",
         "0.379779593034328",
         "-0.503198133318193",
         "1.80049938079263",
         "0.791460956450422",
         "0.247675786588991",
         "-1.51465432260583",
         "0.207642865216696",
         "0.624501459424895",
         "0.066083685268831",
         "0.717292731410831",
         "-0.165945922763554",
         "2.34586494901581",
         "-2.89008319444231",
         "1.10996937869599",
         "-0.121359313195888",
         "-2.26185709530414",
         "0.524979725224404",
         "0.247998153469754",
         "0.771679401917229",
         "0.909412262347719",
         "-0.689280956490685",
         "-0.327641833735251",
         "-0.139096571514147",
         "-0.0553527940384261",
         "-0.0597518405929204",
         "378.66",
         "0"
        ],
        [
         "3",
         "1.0",
         "-0.966271711572087",
         "-0.185226008082898",
         "1.79299333957872",
         "-0.863291275036453",
         "-0.0103088796030823",
         "1.24720316752486",
         "0.23760893977178",
         "0.377435874652262",
         "-1.38702406270197",
         "-0.0549519224713749",
         "-0.226487263835401",
         "0.178228225877303",
         "0.507756869957169",
         "-0.28792374549456",
         "-0.631418117709045",
         "-1.0596472454325",
         "-0.684092786345479",
         "1.96577500349538",
         "-1.2326219700892",
         "-0.208037781160366",
         "-0.108300452035545",
         "0.0052735967825345",
         "-0.190320518742841",
         "-1.17557533186321",
         "0.647376034602038",
         "-0.221928844458407",
         "0.0627228487293033",
         "0.0614576285006353",
         "123.5",
         "0"
        ],
        [
         "4",
         "2.0",
         "-1.15823309349523",
         "0.877736754848451",
         "1.548717846511",
         "0.403033933955121",
         "-0.407193377311653",
         "0.0959214624684256",
         "0.592940745385545",
         "-0.270532677192282",
         "0.817739308235294",
         "0.753074431976354",
         "-0.822842877946363",
         "0.53819555014995",
         "1.3458515932154",
         "-1.11966983471731",
         "0.175121130008994",
         "-0.451449182813529",
         "-0.237033239362776",
         "-0.0381947870352842",
         "0.803486924960175",
         "0.408542360392758",
         "-0.0094306971323291",
         "0.79827849458971",
         "-0.137458079619063",
         "0.141266983824769",
         "-0.206009587619756",
         "0.502292224181569",
         "0.219422229513348",
         "0.215153147499206",
         "69.99",
         "0"
        ]
       ],
       "shape": {
        "columns": 31,
        "rows": 5
       }
      },
      "text/html": [
       "<div>\n",
       "<style scoped>\n",
       "    .dataframe tbody tr th:only-of-type {\n",
       "        vertical-align: middle;\n",
       "    }\n",
       "\n",
       "    .dataframe tbody tr th {\n",
       "        vertical-align: top;\n",
       "    }\n",
       "\n",
       "    .dataframe thead th {\n",
       "        text-align: right;\n",
       "    }\n",
       "</style>\n",
       "<table border=\"1\" class=\"dataframe\">\n",
       "  <thead>\n",
       "    <tr style=\"text-align: right;\">\n",
       "      <th></th>\n",
       "      <th>Time</th>\n",
       "      <th>V1</th>\n",
       "      <th>V2</th>\n",
       "      <th>V3</th>\n",
       "      <th>V4</th>\n",
       "      <th>V5</th>\n",
       "      <th>V6</th>\n",
       "      <th>V7</th>\n",
       "      <th>V8</th>\n",
       "      <th>V9</th>\n",
       "      <th>...</th>\n",
       "      <th>V21</th>\n",
       "      <th>V22</th>\n",
       "      <th>V23</th>\n",
       "      <th>V24</th>\n",
       "      <th>V25</th>\n",
       "      <th>V26</th>\n",
       "      <th>V27</th>\n",
       "      <th>V28</th>\n",
       "      <th>Amount</th>\n",
       "      <th>Class</th>\n",
       "    </tr>\n",
       "  </thead>\n",
       "  <tbody>\n",
       "    <tr>\n",
       "      <th>0</th>\n",
       "      <td>0.0</td>\n",
       "      <td>-1.359807</td>\n",
       "      <td>-0.072781</td>\n",
       "      <td>2.536347</td>\n",
       "      <td>1.378155</td>\n",
       "      <td>-0.338321</td>\n",
       "      <td>0.462388</td>\n",
       "      <td>0.239599</td>\n",
       "      <td>0.098698</td>\n",
       "      <td>0.363787</td>\n",
       "      <td>...</td>\n",
       "      <td>-0.018307</td>\n",
       "      <td>0.277838</td>\n",
       "      <td>-0.110474</td>\n",
       "      <td>0.066928</td>\n",
       "      <td>0.128539</td>\n",
       "      <td>-0.189115</td>\n",
       "      <td>0.133558</td>\n",
       "      <td>-0.021053</td>\n",
       "      <td>149.62</td>\n",
       "      <td>0</td>\n",
       "    </tr>\n",
       "    <tr>\n",
       "      <th>1</th>\n",
       "      <td>0.0</td>\n",
       "      <td>1.191857</td>\n",
       "      <td>0.266151</td>\n",
       "      <td>0.166480</td>\n",
       "      <td>0.448154</td>\n",
       "      <td>0.060018</td>\n",
       "      <td>-0.082361</td>\n",
       "      <td>-0.078803</td>\n",
       "      <td>0.085102</td>\n",
       "      <td>-0.255425</td>\n",
       "      <td>...</td>\n",
       "      <td>-0.225775</td>\n",
       "      <td>-0.638672</td>\n",
       "      <td>0.101288</td>\n",
       "      <td>-0.339846</td>\n",
       "      <td>0.167170</td>\n",
       "      <td>0.125895</td>\n",
       "      <td>-0.008983</td>\n",
       "      <td>0.014724</td>\n",
       "      <td>2.69</td>\n",
       "      <td>0</td>\n",
       "    </tr>\n",
       "    <tr>\n",
       "      <th>2</th>\n",
       "      <td>1.0</td>\n",
       "      <td>-1.358354</td>\n",
       "      <td>-1.340163</td>\n",
       "      <td>1.773209</td>\n",
       "      <td>0.379780</td>\n",
       "      <td>-0.503198</td>\n",
       "      <td>1.800499</td>\n",
       "      <td>0.791461</td>\n",
       "      <td>0.247676</td>\n",
       "      <td>-1.514654</td>\n",
       "      <td>...</td>\n",
       "      <td>0.247998</td>\n",
       "      <td>0.771679</td>\n",
       "      <td>0.909412</td>\n",
       "      <td>-0.689281</td>\n",
       "      <td>-0.327642</td>\n",
       "      <td>-0.139097</td>\n",
       "      <td>-0.055353</td>\n",
       "      <td>-0.059752</td>\n",
       "      <td>378.66</td>\n",
       "      <td>0</td>\n",
       "    </tr>\n",
       "    <tr>\n",
       "      <th>3</th>\n",
       "      <td>1.0</td>\n",
       "      <td>-0.966272</td>\n",
       "      <td>-0.185226</td>\n",
       "      <td>1.792993</td>\n",
       "      <td>-0.863291</td>\n",
       "      <td>-0.010309</td>\n",
       "      <td>1.247203</td>\n",
       "      <td>0.237609</td>\n",
       "      <td>0.377436</td>\n",
       "      <td>-1.387024</td>\n",
       "      <td>...</td>\n",
       "      <td>-0.108300</td>\n",
       "      <td>0.005274</td>\n",
       "      <td>-0.190321</td>\n",
       "      <td>-1.175575</td>\n",
       "      <td>0.647376</td>\n",
       "      <td>-0.221929</td>\n",
       "      <td>0.062723</td>\n",
       "      <td>0.061458</td>\n",
       "      <td>123.50</td>\n",
       "      <td>0</td>\n",
       "    </tr>\n",
       "    <tr>\n",
       "      <th>4</th>\n",
       "      <td>2.0</td>\n",
       "      <td>-1.158233</td>\n",
       "      <td>0.877737</td>\n",
       "      <td>1.548718</td>\n",
       "      <td>0.403034</td>\n",
       "      <td>-0.407193</td>\n",
       "      <td>0.095921</td>\n",
       "      <td>0.592941</td>\n",
       "      <td>-0.270533</td>\n",
       "      <td>0.817739</td>\n",
       "      <td>...</td>\n",
       "      <td>-0.009431</td>\n",
       "      <td>0.798278</td>\n",
       "      <td>-0.137458</td>\n",
       "      <td>0.141267</td>\n",
       "      <td>-0.206010</td>\n",
       "      <td>0.502292</td>\n",
       "      <td>0.219422</td>\n",
       "      <td>0.215153</td>\n",
       "      <td>69.99</td>\n",
       "      <td>0</td>\n",
       "    </tr>\n",
       "  </tbody>\n",
       "</table>\n",
       "<p>5 rows × 31 columns</p>\n",
       "</div>"
      ],
      "text/plain": [
       "   Time        V1        V2        V3        V4        V5        V6        V7  \\\n",
       "0   0.0 -1.359807 -0.072781  2.536347  1.378155 -0.338321  0.462388  0.239599   \n",
       "1   0.0  1.191857  0.266151  0.166480  0.448154  0.060018 -0.082361 -0.078803   \n",
       "2   1.0 -1.358354 -1.340163  1.773209  0.379780 -0.503198  1.800499  0.791461   \n",
       "3   1.0 -0.966272 -0.185226  1.792993 -0.863291 -0.010309  1.247203  0.237609   \n",
       "4   2.0 -1.158233  0.877737  1.548718  0.403034 -0.407193  0.095921  0.592941   \n",
       "\n",
       "         V8        V9  ...       V21       V22       V23       V24       V25  \\\n",
       "0  0.098698  0.363787  ... -0.018307  0.277838 -0.110474  0.066928  0.128539   \n",
       "1  0.085102 -0.255425  ... -0.225775 -0.638672  0.101288 -0.339846  0.167170   \n",
       "2  0.247676 -1.514654  ...  0.247998  0.771679  0.909412 -0.689281 -0.327642   \n",
       "3  0.377436 -1.387024  ... -0.108300  0.005274 -0.190321 -1.175575  0.647376   \n",
       "4 -0.270533  0.817739  ... -0.009431  0.798278 -0.137458  0.141267 -0.206010   \n",
       "\n",
       "        V26       V27       V28  Amount  Class  \n",
       "0 -0.189115  0.133558 -0.021053  149.62      0  \n",
       "1  0.125895 -0.008983  0.014724    2.69      0  \n",
       "2 -0.139097 -0.055353 -0.059752  378.66      0  \n",
       "3 -0.221929  0.062723  0.061458  123.50      0  \n",
       "4  0.502292  0.219422  0.215153   69.99      0  \n",
       "\n",
       "[5 rows x 31 columns]"
      ]
     },
     "execution_count": 21,
     "metadata": {},
     "output_type": "execute_result"
    }
   ],
   "source": [
    "# Load the dataset\n",
    "df = pd.read_csv('creditcard.csv')\n",
    "\n",
    "# Preprocessing by dropping any rows with NaN values in Class column\n",
    "missing_count = df['Class'].isna().sum()\n",
    "if missing_count > 0:\n",
    "    print(f'Dropping {missing_count} rows with missing values in Class column')\n",
    "    df = df.dropna(subset=['Class'])\n",
    "else:\n",
    "    print('No missing values in Class column')\n",
    "\n",
    "# Display the first few rows of the dataset\n",
    "df.head()"
   ]
  },
  {
   "cell_type": "markdown",
   "metadata": {},
   "source": [
    "#### 2. Split the dataset into features (X) and the target variable (y), and further divide into training and test sets"
   ]
  },
  {
   "cell_type": "code",
   "execution_count": 22,
   "metadata": {
    "ExecuteTime": {
     "end_time": "2025-02-07T03:15:05.853974Z",
     "start_time": "2025-02-07T03:15:05.732099Z"
    }
   },
   "outputs": [
    {
     "name": "stdout",
     "output_type": "stream",
     "text": [
      "(227845, 30) (56962, 30) (227845,) (56962,)\n"
     ]
    }
   ],
   "source": [
    "# Split the dataset into features and target variable\n",
    "X = df.drop('Class', axis=1)\n",
    "y = df['Class']\n",
    "\n",
    "# Split the dataset into training and test sets\n",
    "X_train, X_test, y_train, y_test = train_test_split(X, y, test_size=0.2, random_state=42)\n",
    "\n",
    "# Display the shapes of the resulting datasets\n",
    "print(X_train.shape, X_test.shape, y_train.shape, y_test.shape)"
   ]
  },
  {
   "cell_type": "markdown",
   "metadata": {},
   "source": [
    "#### 3.a Perform data scaling and modelling."
   ]
  },
  {
   "cell_type": "code",
   "execution_count": 23,
   "metadata": {
    "ExecuteTime": {
     "end_time": "2025-02-07T03:25:29.587596Z",
     "start_time": "2025-02-07T03:15:05.988924Z"
    }
   },
   "outputs": [
    {
     "name": "stdout",
     "output_type": "stream",
     "text": [
      "Training Accuracy [k=5]: 0.999583\n",
      "Testing Accuracy [k=5]: 0.999526\n"
     ]
    },
    {
     "data": {
      "image/png": "[encoded data removed]",
      "text/plain": [
       "<Figure size 1000x600 with 1 Axes>"
      ]
     },
     "metadata": {},
     "output_type": "display_data"
    }
   ],
   "source": [
    "# Initialize the StandardScaler\n",
    "scaler = StandardScaler()\n",
    "\n",
    "# Fit the scaler on the training data and transform both the training and test data\n",
    "X_train_scaled = scaler.fit_transform(X_train)\n",
    "X_test_scaled = scaler.transform(X_test)\n",
    "\n",
    "# Initialize the K-Nearest Neighbors model with k=5\n",
    "knn = KNeighborsClassifier(n_neighbors=5, n_jobs=n_jobs)\n",
    "knn.fit(X_train_scaled, y_train)\n",
    "\n",
    "# Training and Testing Accuracy\n",
    "print('Training Accuracy [k=5]: {:.6f}'.format(knn.score(X_train_scaled, y_train)))\n",
    "print('Testing Accuracy [k=5]: {:.6f}'.format(knn.score(X_test_scaled, y_test)))\n",
    "\n",
    "k_range = range(1, 10)\n",
    "\n",
    "train_accuracy = []\n",
    "test_accuracy = []\n",
    "for k in k_range:\n",
    "    knn = KNeighborsClassifier(n_neighbors=k, n_jobs=n_jobs)\n",
    "    knn.fit(X_train_scaled, y_train)\n",
    "    train_accuracy.append(knn.score(X_train_scaled, y_train))\n",
    "    test_accuracy.append(knn.score(X_test_scaled, y_test))\n",
    "\n",
    "# Plot elbow curve\n",
    "plt.figure(figsize=(10, 6))\n",
    "plt.plot(k_range, train_accuracy, label='Training Accuracy', marker='o')\n",
    "plt.plot(k_range, test_accuracy, label='Testing Accuracy', marker='o')\n",
    "plt.xlabel('Number of Neighbors k')\n",
    "plt.ylabel('Accuracy')\n",
    "plt.title('Training vs Testing Accuracy for different values of k')\n",
    "plt.legend()\n",
    "plt.grid(True)\n",
    "plt.show()"
   ]
  },
  {
   "cell_type": "markdown",
   "metadata": {},
   "source": [
    "#### 3.b Fine tune the value of k using GridSearchCV to find the optimal value of k"
   ]
  },
  {
   "cell_type": "code",
   "execution_count": 24,
   "metadata": {
    "ExecuteTime": {
     "end_time": "2025-02-07T03:30:38.497085Z",
     "start_time": "2025-02-07T03:25:29.706999Z"
    }
   },
   "outputs": [
    {
     "name": "stdout",
     "output_type": "stream",
     "text": [
      "Best Score:  0.999491\n",
      "Optimal value of k: 3\n",
      "ROC AUC Score [k=3]: 0.928482\n"
     ]
    },
    {
     "data": {
      "image/png": "[encoded data removed]",
      "text/plain": [
       "<Figure size 640x480 with 1 Axes>"
      ]
     },
     "metadata": {},
     "output_type": "display_data"
    }
   ],
   "source": [
    "# In case of classifier like knn the parameter to be tuned is n_neighbors\n",
    "param_name = 'n_neighbors'\n",
    "param_grid = {param_name: k_range}\n",
    "\n",
    "model = KNeighborsClassifier()\n",
    "model_cv= GridSearchCV(model, param_grid, cv=5, n_jobs=n_jobs)\n",
    "model_cv.fit(X_train_scaled, y_train)\n",
    "\n",
    "print(\"Best Score:  {:.6f}\".format(model_cv.best_score_))\n",
    "optimal_k = model_cv.best_params_[param_name]\n",
    "print(\"Optimal value of k: {}\".format(optimal_k))\n",
    "\n",
    "# Initialize the K-Nearest Neighbors model with optimal k\n",
    "knn = KNeighborsClassifier(n_neighbors=optimal_k, n_jobs=n_jobs)\n",
    "knn.fit(X_train_scaled, y_train)\n",
    "y_pred = knn.predict(X_test_scaled)\n",
    "\n",
    "# ROC curve\n",
    "y_pred_proba = knn.predict_proba(X_test_scaled)[:, 1]\n",
    "fpr, tpr, thresholds = roc_curve(y_test, y_pred_proba)\n",
    "\n",
    "# ROC AUC Score\n",
    "roc_auc = roc_auc_score(y_test, y_pred_proba)\n",
    "print(\"ROC AUC Score [k={}]: {:.6f}\".format(optimal_k, roc_auc))\n",
    "\n",
    "# Plot ROC curve\n",
    "plt.plot([0, 1], [0, 1], 'k--')\n",
    "plt.plot(fpr, tpr, label='KNN')\n",
    "plt.xlabel('False Positive Rate')\n",
    "plt.ylabel('True Positive Rate')\n",
    "plt.title('KNN (n_neighbors={}) ROC Curve'.format(optimal_k))\n",
    "plt.legend()\n",
    "plt.show()"
   ]
  },
  {
   "cell_type": "markdown",
   "metadata": {},
   "source": [
    "#### 4. Evaluate the model performance using a classification report and accuracy score"
   ]
  },
  {
   "cell_type": "code",
   "execution_count": 25,
   "metadata": {
    "ExecuteTime": {
     "end_time": "2025-02-07T03:30:38.545464Z",
     "start_time": "2025-02-07T03:30:38.527696Z"
    }
   },
   "outputs": [
    {
     "name": "stdout",
     "output_type": "stream",
     "text": [
      "Classification Report [k=3]:\n",
      "              precision    recall  f1-score   support\n",
      "\n",
      "   Non-Fraud       1.00      1.00      1.00     56864\n",
      "       Fraud       0.95      0.78      0.85        98\n",
      "\n",
      "    accuracy                           1.00     56962\n",
      "   macro avg       0.97      0.89      0.93     56962\n",
      "weighted avg       1.00      1.00      1.00     56962\n",
      "\n",
      "Accuracy Score [k=3]: 0.999544\n"
     ]
    }
   ],
   "source": [
    "# Classification report\n",
    "report = classification_report(y_test, y_pred, target_names=['Non-Fraud', 'Fraud'])\n",
    "print('Classification Report [k={}]:\\n{}'.format(optimal_k, report))\n",
    "\n",
    "# Accuracy Score\n",
    "accuracy = accuracy_score(y_test, y_pred)\n",
    "print('Accuracy Score [k={}]: {:.6f}'.format(optimal_k, accuracy))"
   ]
  },
  {
   "cell_type": "code",
   "execution_count": 26,
   "metadata": {
    "ExecuteTime": {
     "end_time": "2025-02-07T03:30:38.594230Z",
     "start_time": "2025-02-07T03:30:38.562029Z"
    }
   },
   "outputs": [
    {
     "data": {
      "application/vnd.microsoft.datawrangler.viewer.v0+json": {
       "columns": [
        {
         "name": "Actual",
         "rawType": "object",
         "type": "unknown"
        },
        {
         "name": "0",
         "rawType": "int64",
         "type": "integer"
        },
        {
         "name": "1",
         "rawType": "int64",
         "type": "integer"
        },
        {
         "name": "All",
         "rawType": "int64",
         "type": "integer"
        }
       ],
       "conversionMethod": "pd.DataFrame",
       "ref": "145bb891-3a72-4ba7-934f-744a64373c06",
       "rows": [
        [
         "0",
         "56860",
         "4",
         "56864"
        ],
        [
         "1",
         "22",
         "76",
         "98"
        ],
        [
         "All",
         "56882",
         "80",
         "56962"
        ]
       ],
       "shape": {
        "columns": 3,
        "rows": 3
       }
      },
      "text/html": [
       "<div>\n",
       "<style scoped>\n",
       "    .dataframe tbody tr th:only-of-type {\n",
       "        vertical-align: middle;\n",
       "    }\n",
       "\n",
       "    .dataframe tbody tr th {\n",
       "        vertical-align: top;\n",
       "    }\n",
       "\n",
       "    .dataframe thead th {\n",
       "        text-align: right;\n",
       "    }\n",
       "</style>\n",
       "<table border=\"1\" class=\"dataframe\">\n",
       "  <thead>\n",
       "    <tr style=\"text-align: right;\">\n",
       "      <th>Predicted</th>\n",
       "      <th>0</th>\n",
       "      <th>1</th>\n",
       "      <th>All</th>\n",
       "    </tr>\n",
       "    <tr>\n",
       "      <th>Actual</th>\n",
       "      <th></th>\n",
       "      <th></th>\n",
       "      <th></th>\n",
       "    </tr>\n",
       "  </thead>\n",
       "  <tbody>\n",
       "    <tr>\n",
       "      <th>0</th>\n",
       "      <td>56860</td>\n",
       "      <td>4</td>\n",
       "      <td>56864</td>\n",
       "    </tr>\n",
       "    <tr>\n",
       "      <th>1</th>\n",
       "      <td>22</td>\n",
       "      <td>76</td>\n",
       "      <td>98</td>\n",
       "    </tr>\n",
       "    <tr>\n",
       "      <th>All</th>\n",
       "      <td>56882</td>\n",
       "      <td>80</td>\n",
       "      <td>56962</td>\n",
       "    </tr>\n",
       "  </tbody>\n",
       "</table>\n",
       "</div>"
      ],
      "text/plain": [
       "Predicted      0   1    All\n",
       "Actual                     \n",
       "0          56860   4  56864\n",
       "1             22  76     98\n",
       "All        56882  80  56962"
      ]
     },
     "execution_count": 26,
     "metadata": {},
     "output_type": "execute_result"
    }
   ],
   "source": [
    "pd.crosstab(y_test, y_pred, rownames=['Actual'], colnames=['Predicted'], margins=True)"
   ]
  },
  {
   "cell_type": "markdown",
   "metadata": {},
   "source": [
    "#### 5. Plot a confusion matrix as a heatmap, offering a visual representation of the model's performance, illustrating True Positives, True Negatives, False Positives, and False Negatives."
   ]
  },
  {
   "cell_type": "code",
   "execution_count": 27,
   "metadata": {
    "ExecuteTime": {
     "end_time": "2025-02-07T03:30:38.728855Z",
     "start_time": "2025-02-07T03:30:38.648048Z"
    }
   },
   "outputs": [
    {
     "data": {
      "image/png": "[encoded data removed]",
      "text/plain": [
       "<Figure size 1000x700 with 1 Axes>"
      ]
     },
     "metadata": {},
     "output_type": "display_data"
    }
   ],
   "source": [
    "# Confusion Matrix\n",
    "confusion_matrix = confusion_matrix(y_test, y_pred)\n",
    "# Plot the confusion matrix as a heatmap\n",
    "plt.figure(figsize=(10, 7))\n",
    "sns.heatmap(confusion_matrix, annot=True, fmt='d', cmap='Blues', cbar=False, annot_kws={\"size\": 16})\n",
    "\n",
    "# Add labels for True Positives, True Negatives, False Positives, and False Negatives\n",
    "plt.text(0.25, 0.25, 'True Negatives', ha='center', va='center', color='white', fontsize=12)\n",
    "plt.text(1.25, 0.25, 'False Positives', ha='center', va='center', color='black', fontsize=12)\n",
    "plt.text(0.25, 1.25, 'False Negatives', ha='center', va='center', color='black', fontsize=12)\n",
    "plt.text(1.25, 1.25, 'True Positives', ha='center', va='center', color='black', fontsize=12)\n",
    "\n",
    "# Add axis labels and title\n",
    "plt.xlabel('Predicted', fontsize=14)\n",
    "plt.ylabel('Actual', fontsize=14)\n",
    "plt.title('Confusion Matrix', fontsize=16)\n",
    "\n",
    "# Customize tick labels\n",
    "plt.xticks(ticks=[0.5, 1.5], labels=['Non-Fraud', 'Fraud'], fontsize=12)\n",
    "plt.yticks(ticks=[0.5, 1.5], labels=['Non-Fraud', 'Fraud'], fontsize=12)\n",
    "\n",
    "# Add grid lines for better readability\n",
    "plt.grid(True, which='both', linestyle='--', linewidth=0.5)\n",
    "\n",
    "# Show the plot\n",
    "plt.show()"
   ]
  },
  {
   "cell_type": "markdown",
   "metadata": {},
   "source": [
    "#### 6. Write some conclusion on how K-Nearest Neighbors implementation serves as an efficient solution for credit card fraud detection."
   ]
  },
  {
   "cell_type": "markdown",
   "metadata": {},
   "source": [
    "In this notebook, we implemented the K-Nearest Neighbors (KNN) algorithm for credit card fraud detection. The KNN algorithm is a simple, yet effective, machine learning algorithm that can be used for classification tasks. By training the KNN model on a credit card fraud dataset, we were able to detect fraudulent transactions with high accuracy and reliability.\n",
    "\n",
    "In conclusion, the implementation of the K-Nearest Neighbors (KNN) algorithm for credit card fraud detection has demonstrated its effectiveness in identifying fraudulent transactions. Here are some key points:\n",
    "\n",
    "1. **Accuracy**: The KNN model achieved a high accuracy score, indicating that it can correctly classify the majority of transactions as either fraudulent or non-fraudulent.\n",
    "\n",
    "2. **Confusion Matrix**: The confusion matrix provides a clear visual representation of the model's performance, showing the number of true positives, true negatives, false positives, and false negatives. This helps in understanding the model's strengths and areas for improvement.\n",
    "\n",
    "3. **Fine-Tuning**: By experimenting with different values of k, the optimal value was determined, which further improved the model's performance. This fine-tuning process is crucial for enhancing the model's accuracy and reliability.\n",
    "\n",
    "4. **Scalability**: KNN is a non-parametric algorithm, making it suitable for large datasets like the credit card fraud dataset used in this analysis. It can handle the high dimensionality of the data effectively.\n",
    "\n",
    "Overall, the KNN algorithm proves to be a robust and efficient solution for credit card fraud detection, providing high accuracy and reliable performance in identifying fraudulent transactions.\n"
   ]
  }
 ],
 "metadata": {
  "kernelspec": {
   "display_name": "Python 3",
   "language": "python",
   "name": "python3"
  },
  "language_info": {
   "codemirror_mode": {
    "name": "ipython",
    "version": 3
   },
   "file_extension": ".py",
   "mimetype": "text/x-python",
   "name": "python",
   "nbconvert_exporter": "python",
   "pygments_lexer": "ipython3",
   "version": "3.13.1"
  }
 },
 "nbformat": 4,
 "nbformat_minor": 4
}
